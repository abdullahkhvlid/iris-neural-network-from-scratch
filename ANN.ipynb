{
  "nbformat": 4,
  "nbformat_minor": 0,
  "metadata": {
    "colab": {
      "provenance": []
    },
    "kernelspec": {
      "name": "python3",
      "display_name": "Python 3"
    },
    "language_info": {
      "name": "python"
    }
  },
  "cells": [
    {
      "cell_type": "code",
      "execution_count": null,
      "metadata": {
        "colab": {
          "base_uri": "https://localhost:8080/",
          "height": 206
        },
        "id": "gzK1Nu8w-LNv",
        "outputId": "50ac1269-3aef-4c07-8d4a-3620e8415460"
      },
      "outputs": [
        {
          "output_type": "execute_result",
          "data": {
            "text/plain": [
              "   sepal length (cm)  sepal width (cm)  petal length (cm)  petal width (cm)\n",
              "0                5.1               3.5                1.4               0.2\n",
              "1                4.9               3.0                1.4               0.2\n",
              "2                4.7               3.2                1.3               0.2\n",
              "3                4.6               3.1                1.5               0.2\n",
              "4                5.0               3.6                1.4               0.2"
            ],
            "text/html": [
              "\n",
              "  <div id=\"df-6bc4c692-f765-437b-a559-c22e7065b957\" class=\"colab-df-container\">\n",
              "    <div>\n",
              "<style scoped>\n",
              "    .dataframe tbody tr th:only-of-type {\n",
              "        vertical-align: middle;\n",
              "    }\n",
              "\n",
              "    .dataframe tbody tr th {\n",
              "        vertical-align: top;\n",
              "    }\n",
              "\n",
              "    .dataframe thead th {\n",
              "        text-align: right;\n",
              "    }\n",
              "</style>\n",
              "<table border=\"1\" class=\"dataframe\">\n",
              "  <thead>\n",
              "    <tr style=\"text-align: right;\">\n",
              "      <th></th>\n",
              "      <th>sepal length (cm)</th>\n",
              "      <th>sepal width (cm)</th>\n",
              "      <th>petal length (cm)</th>\n",
              "      <th>petal width (cm)</th>\n",
              "    </tr>\n",
              "  </thead>\n",
              "  <tbody>\n",
              "    <tr>\n",
              "      <th>0</th>\n",
              "      <td>5.1</td>\n",
              "      <td>3.5</td>\n",
              "      <td>1.4</td>\n",
              "      <td>0.2</td>\n",
              "    </tr>\n",
              "    <tr>\n",
              "      <th>1</th>\n",
              "      <td>4.9</td>\n",
              "      <td>3.0</td>\n",
              "      <td>1.4</td>\n",
              "      <td>0.2</td>\n",
              "    </tr>\n",
              "    <tr>\n",
              "      <th>2</th>\n",
              "      <td>4.7</td>\n",
              "      <td>3.2</td>\n",
              "      <td>1.3</td>\n",
              "      <td>0.2</td>\n",
              "    </tr>\n",
              "    <tr>\n",
              "      <th>3</th>\n",
              "      <td>4.6</td>\n",
              "      <td>3.1</td>\n",
              "      <td>1.5</td>\n",
              "      <td>0.2</td>\n",
              "    </tr>\n",
              "    <tr>\n",
              "      <th>4</th>\n",
              "      <td>5.0</td>\n",
              "      <td>3.6</td>\n",
              "      <td>1.4</td>\n",
              "      <td>0.2</td>\n",
              "    </tr>\n",
              "  </tbody>\n",
              "</table>\n",
              "</div>\n",
              "    <div class=\"colab-df-buttons\">\n",
              "\n",
              "  <div class=\"colab-df-container\">\n",
              "    <button class=\"colab-df-convert\" onclick=\"convertToInteractive('df-6bc4c692-f765-437b-a559-c22e7065b957')\"\n",
              "            title=\"Convert this dataframe to an interactive table.\"\n",
              "            style=\"display:none;\">\n",
              "\n",
              "  <svg xmlns=\"http://www.w3.org/2000/svg\" height=\"24px\" viewBox=\"0 -960 960 960\">\n",
              "    <path d=\"M120-120v-720h720v720H120Zm60-500h600v-160H180v160Zm220 220h160v-160H400v160Zm0 220h160v-160H400v160ZM180-400h160v-160H180v160Zm440 0h160v-160H620v160ZM180-180h160v-160H180v160Zm440 0h160v-160H620v160Z\"/>\n",
              "  </svg>\n",
              "    </button>\n",
              "\n",
              "  <style>\n",
              "    .colab-df-container {\n",
              "      display:flex;\n",
              "      gap: 12px;\n",
              "    }\n",
              "\n",
              "    .colab-df-convert {\n",
              "      background-color: #E8F0FE;\n",
              "      border: none;\n",
              "      border-radius: 50%;\n",
              "      cursor: pointer;\n",
              "      display: none;\n",
              "      fill: #1967D2;\n",
              "      height: 32px;\n",
              "      padding: 0 0 0 0;\n",
              "      width: 32px;\n",
              "    }\n",
              "\n",
              "    .colab-df-convert:hover {\n",
              "      background-color: #E2EBFA;\n",
              "      box-shadow: 0px 1px 2px rgba(60, 64, 67, 0.3), 0px 1px 3px 1px rgba(60, 64, 67, 0.15);\n",
              "      fill: #174EA6;\n",
              "    }\n",
              "\n",
              "    .colab-df-buttons div {\n",
              "      margin-bottom: 4px;\n",
              "    }\n",
              "\n",
              "    [theme=dark] .colab-df-convert {\n",
              "      background-color: #3B4455;\n",
              "      fill: #D2E3FC;\n",
              "    }\n",
              "\n",
              "    [theme=dark] .colab-df-convert:hover {\n",
              "      background-color: #434B5C;\n",
              "      box-shadow: 0px 1px 3px 1px rgba(0, 0, 0, 0.15);\n",
              "      filter: drop-shadow(0px 1px 2px rgba(0, 0, 0, 0.3));\n",
              "      fill: #FFFFFF;\n",
              "    }\n",
              "  </style>\n",
              "\n",
              "    <script>\n",
              "      const buttonEl =\n",
              "        document.querySelector('#df-6bc4c692-f765-437b-a559-c22e7065b957 button.colab-df-convert');\n",
              "      buttonEl.style.display =\n",
              "        google.colab.kernel.accessAllowed ? 'block' : 'none';\n",
              "\n",
              "      async function convertToInteractive(key) {\n",
              "        const element = document.querySelector('#df-6bc4c692-f765-437b-a559-c22e7065b957');\n",
              "        const dataTable =\n",
              "          await google.colab.kernel.invokeFunction('convertToInteractive',\n",
              "                                                    [key], {});\n",
              "        if (!dataTable) return;\n",
              "\n",
              "        const docLinkHtml = 'Like what you see? Visit the ' +\n",
              "          '<a target=\"_blank\" href=https://colab.research.google.com/notebooks/data_table.ipynb>data table notebook</a>'\n",
              "          + ' to learn more about interactive tables.';\n",
              "        element.innerHTML = '';\n",
              "        dataTable['output_type'] = 'display_data';\n",
              "        await google.colab.output.renderOutput(dataTable, element);\n",
              "        const docLink = document.createElement('div');\n",
              "        docLink.innerHTML = docLinkHtml;\n",
              "        element.appendChild(docLink);\n",
              "      }\n",
              "    </script>\n",
              "  </div>\n",
              "\n",
              "\n",
              "    <div id=\"df-d8bc8584-0ca5-4c93-9c81-6592e84fcdc0\">\n",
              "      <button class=\"colab-df-quickchart\" onclick=\"quickchart('df-d8bc8584-0ca5-4c93-9c81-6592e84fcdc0')\"\n",
              "                title=\"Suggest charts\"\n",
              "                style=\"display:none;\">\n",
              "\n",
              "<svg xmlns=\"http://www.w3.org/2000/svg\" height=\"24px\"viewBox=\"0 0 24 24\"\n",
              "     width=\"24px\">\n",
              "    <g>\n",
              "        <path d=\"M19 3H5c-1.1 0-2 .9-2 2v14c0 1.1.9 2 2 2h14c1.1 0 2-.9 2-2V5c0-1.1-.9-2-2-2zM9 17H7v-7h2v7zm4 0h-2V7h2v10zm4 0h-2v-4h2v4z\"/>\n",
              "    </g>\n",
              "</svg>\n",
              "      </button>\n",
              "\n",
              "<style>\n",
              "  .colab-df-quickchart {\n",
              "      --bg-color: #E8F0FE;\n",
              "      --fill-color: #1967D2;\n",
              "      --hover-bg-color: #E2EBFA;\n",
              "      --hover-fill-color: #174EA6;\n",
              "      --disabled-fill-color: #AAA;\n",
              "      --disabled-bg-color: #DDD;\n",
              "  }\n",
              "\n",
              "  [theme=dark] .colab-df-quickchart {\n",
              "      --bg-color: #3B4455;\n",
              "      --fill-color: #D2E3FC;\n",
              "      --hover-bg-color: #434B5C;\n",
              "      --hover-fill-color: #FFFFFF;\n",
              "      --disabled-bg-color: #3B4455;\n",
              "      --disabled-fill-color: #666;\n",
              "  }\n",
              "\n",
              "  .colab-df-quickchart {\n",
              "    background-color: var(--bg-color);\n",
              "    border: none;\n",
              "    border-radius: 50%;\n",
              "    cursor: pointer;\n",
              "    display: none;\n",
              "    fill: var(--fill-color);\n",
              "    height: 32px;\n",
              "    padding: 0;\n",
              "    width: 32px;\n",
              "  }\n",
              "\n",
              "  .colab-df-quickchart:hover {\n",
              "    background-color: var(--hover-bg-color);\n",
              "    box-shadow: 0 1px 2px rgba(60, 64, 67, 0.3), 0 1px 3px 1px rgba(60, 64, 67, 0.15);\n",
              "    fill: var(--button-hover-fill-color);\n",
              "  }\n",
              "\n",
              "  .colab-df-quickchart-complete:disabled,\n",
              "  .colab-df-quickchart-complete:disabled:hover {\n",
              "    background-color: var(--disabled-bg-color);\n",
              "    fill: var(--disabled-fill-color);\n",
              "    box-shadow: none;\n",
              "  }\n",
              "\n",
              "  .colab-df-spinner {\n",
              "    border: 2px solid var(--fill-color);\n",
              "    border-color: transparent;\n",
              "    border-bottom-color: var(--fill-color);\n",
              "    animation:\n",
              "      spin 1s steps(1) infinite;\n",
              "  }\n",
              "\n",
              "  @keyframes spin {\n",
              "    0% {\n",
              "      border-color: transparent;\n",
              "      border-bottom-color: var(--fill-color);\n",
              "      border-left-color: var(--fill-color);\n",
              "    }\n",
              "    20% {\n",
              "      border-color: transparent;\n",
              "      border-left-color: var(--fill-color);\n",
              "      border-top-color: var(--fill-color);\n",
              "    }\n",
              "    30% {\n",
              "      border-color: transparent;\n",
              "      border-left-color: var(--fill-color);\n",
              "      border-top-color: var(--fill-color);\n",
              "      border-right-color: var(--fill-color);\n",
              "    }\n",
              "    40% {\n",
              "      border-color: transparent;\n",
              "      border-right-color: var(--fill-color);\n",
              "      border-top-color: var(--fill-color);\n",
              "    }\n",
              "    60% {\n",
              "      border-color: transparent;\n",
              "      border-right-color: var(--fill-color);\n",
              "    }\n",
              "    80% {\n",
              "      border-color: transparent;\n",
              "      border-right-color: var(--fill-color);\n",
              "      border-bottom-color: var(--fill-color);\n",
              "    }\n",
              "    90% {\n",
              "      border-color: transparent;\n",
              "      border-bottom-color: var(--fill-color);\n",
              "    }\n",
              "  }\n",
              "</style>\n",
              "\n",
              "      <script>\n",
              "        async function quickchart(key) {\n",
              "          const quickchartButtonEl =\n",
              "            document.querySelector('#' + key + ' button');\n",
              "          quickchartButtonEl.disabled = true;  // To prevent multiple clicks.\n",
              "          quickchartButtonEl.classList.add('colab-df-spinner');\n",
              "          try {\n",
              "            const charts = await google.colab.kernel.invokeFunction(\n",
              "                'suggestCharts', [key], {});\n",
              "          } catch (error) {\n",
              "            console.error('Error during call to suggestCharts:', error);\n",
              "          }\n",
              "          quickchartButtonEl.classList.remove('colab-df-spinner');\n",
              "          quickchartButtonEl.classList.add('colab-df-quickchart-complete');\n",
              "        }\n",
              "        (() => {\n",
              "          let quickchartButtonEl =\n",
              "            document.querySelector('#df-d8bc8584-0ca5-4c93-9c81-6592e84fcdc0 button');\n",
              "          quickchartButtonEl.style.display =\n",
              "            google.colab.kernel.accessAllowed ? 'block' : 'none';\n",
              "        })();\n",
              "      </script>\n",
              "    </div>\n",
              "\n",
              "    </div>\n",
              "  </div>\n"
            ],
            "application/vnd.google.colaboratory.intrinsic+json": {
              "type": "dataframe",
              "variable_name": "df",
              "summary": "{\n  \"name\": \"df\",\n  \"rows\": 150,\n  \"fields\": [\n    {\n      \"column\": \"sepal length (cm)\",\n      \"properties\": {\n        \"dtype\": \"number\",\n        \"std\": 0.8280661279778629,\n        \"min\": 4.3,\n        \"max\": 7.9,\n        \"num_unique_values\": 35,\n        \"samples\": [\n          6.2,\n          4.5,\n          5.6\n        ],\n        \"semantic_type\": \"\",\n        \"description\": \"\"\n      }\n    },\n    {\n      \"column\": \"sepal width (cm)\",\n      \"properties\": {\n        \"dtype\": \"number\",\n        \"std\": 0.435866284936698,\n        \"min\": 2.0,\n        \"max\": 4.4,\n        \"num_unique_values\": 23,\n        \"samples\": [\n          2.3,\n          4.0,\n          3.5\n        ],\n        \"semantic_type\": \"\",\n        \"description\": \"\"\n      }\n    },\n    {\n      \"column\": \"petal length (cm)\",\n      \"properties\": {\n        \"dtype\": \"number\",\n        \"std\": 1.7652982332594667,\n        \"min\": 1.0,\n        \"max\": 6.9,\n        \"num_unique_values\": 43,\n        \"samples\": [\n          6.7,\n          3.8,\n          3.7\n        ],\n        \"semantic_type\": \"\",\n        \"description\": \"\"\n      }\n    },\n    {\n      \"column\": \"petal width (cm)\",\n      \"properties\": {\n        \"dtype\": \"number\",\n        \"std\": 0.7622376689603465,\n        \"min\": 0.1,\n        \"max\": 2.5,\n        \"num_unique_values\": 22,\n        \"samples\": [\n          0.2,\n          1.2,\n          1.3\n        ],\n        \"semantic_type\": \"\",\n        \"description\": \"\"\n      }\n    }\n  ]\n}"
            }
          },
          "metadata": {},
          "execution_count": 72
        }
      ],
      "source": [
        "import pandas as pd\n",
        "import numpy as np\n",
        "from sklearn.datasets import load_iris\n",
        "iris = load_iris()\n",
        "df = pd.DataFrame(iris.data, columns=iris.feature_names)\n",
        "\n",
        "df.head()"
      ]
    },
    {
      "cell_type": "code",
      "source": [
        "from sklearn.model_selection import train_test_split\n",
        "X_train, X_test, y_train, y_test = train_test_split(iris.data, iris.target, test_size=0.2, random_state=42)\n"
      ],
      "metadata": {
        "id": "DNVui_U9GxWv"
      },
      "execution_count": null,
      "outputs": []
    },
    {
      "cell_type": "code",
      "source": [
        "input_size = 4  #due to 4 input features we have\n",
        "output_size = 3 #we have 3 categorical outputs\n",
        "hidden_size = 5 #not a fixed number we decide it ( 5 neurons )\n",
        "\n",
        "W1 = np.random.randn(input_size, hidden_size) * 0.01\n",
        "b1 = np.zeros((1, hidden_size))                       # Layer 1 biases\n",
        "W2 = np.random.randn(hidden_size, output_size) * 0.01 # Layer 2 weights\n",
        "b2 = np.zeros((1, output_size))                       # Layer 2 biases\n",
        "\n",
        "print(\"W1 shape:\", W1.shape)  # (4,5) - 4 inputs, 5 hidden neurons\n",
        "print(\"W2 shape:\", W2.shape)\n",
        "\n",
        "# W1 = Layer 1's weight stored in a variable\n",
        "# W2 = Layer 2's weight stored in a variable\n",
        "# W3 = Layer 3's weight stored in a variable\n",
        "\n",
        "#Biases are zero but they will update during training"
      ],
      "metadata": {
        "colab": {
          "base_uri": "https://localhost:8080/"
        },
        "id": "8-AQnpLYOWQF",
        "outputId": "145f63b7-3b41-4be1-e143-4f1a3694416a"
      },
      "execution_count": null,
      "outputs": [
        {
          "output_type": "stream",
          "name": "stdout",
          "text": [
            "W1 shape: (4, 5)\n",
            "W2 shape: (5, 3)\n"
          ]
        }
      ]
    },
    {
      "cell_type": "code",
      "source": [
        "y_train.shape"
      ],
      "metadata": {
        "colab": {
          "base_uri": "https://localhost:8080/"
        },
        "id": "hQ_poTfG1M2n",
        "outputId": "fcca3921-fb47-4bd4-ad4d-cfd949f72205"
      },
      "execution_count": null,
      "outputs": [
        {
          "output_type": "execute_result",
          "data": {
            "text/plain": [
              "(120,)"
            ]
          },
          "metadata": {},
          "execution_count": 75
        }
      ]
    },
    {
      "cell_type": "code",
      "source": [
        "print(b2)"
      ],
      "metadata": {
        "colab": {
          "base_uri": "https://localhost:8080/"
        },
        "id": "hKHAXZYLOWVP",
        "outputId": "902ae955-60b8-43b9-fe87-07c706a64f24"
      },
      "execution_count": null,
      "outputs": [
        {
          "output_type": "stream",
          "name": "stdout",
          "text": [
            "[[0. 0. 0.]]\n"
          ]
        }
      ]
    },
    {
      "cell_type": "code",
      "source": [
        "print(W1)"
      ],
      "metadata": {
        "colab": {
          "base_uri": "https://localhost:8080/"
        },
        "id": "F3ixKx7gOWSn",
        "outputId": "41a5b0e0-7a19-4a32-f481-6c5cd9998dea"
      },
      "execution_count": null,
      "outputs": [
        {
          "output_type": "stream",
          "name": "stdout",
          "text": [
            "[[-0.01473486  0.02333305 -0.00904088 -0.00158036  0.01864921]\n",
            " [ 0.0146692   0.01898557  0.00670369 -0.0039497  -0.00203858]\n",
            " [ 0.00872726 -0.00454707 -0.00253922 -0.01116823 -0.01351247]\n",
            " [-0.01222766  0.01019446 -0.00577846 -0.00010357 -0.00147598]]\n"
          ]
        }
      ]
    },
    {
      "cell_type": "code",
      "source": [
        "def relu(x):\n",
        "  return np.maximum(0, x)\n",
        "\n",
        "relu(9)"
      ],
      "metadata": {
        "colab": {
          "base_uri": "https://localhost:8080/"
        },
        "id": "2XFfSFidK7cg",
        "outputId": "2d4da07a-e1cf-46fc-dbe9-b667931e64cd"
      },
      "execution_count": null,
      "outputs": [
        {
          "output_type": "execute_result",
          "data": {
            "text/plain": [
              "np.int64(9)"
            ]
          },
          "metadata": {},
          "execution_count": 78
        }
      ]
    },
    {
      "cell_type": "code",
      "source": [
        "def softmax(x):\n",
        "    exp_x = np.exp(x - np.max(x, axis=1, keepdims=True))\n",
        "    return exp_x / np.sum(exp_x, axis=1, keepdims=True)"
      ],
      "metadata": {
        "id": "rJ3KgHSxK7fC"
      },
      "execution_count": null,
      "outputs": []
    },
    {
      "cell_type": "code",
      "source": [
        "def forward(X, W1, b1, W2, b2):\n",
        "\n",
        "    # Layer 1: Input to Hidden\n",
        "    z1 = np.dot(X, W1) + b1      # Linear combination\n",
        "    a1 = relu(z1)                # Activation\n",
        "\n",
        "    # Layer 2: Hidden to Output\n",
        "    z2 = np.dot(a1, W2) + b2     # Linear combination\n",
        "    a2 = softmax(z2)             # Output probabilities\n",
        "\n",
        "    return a2, a1, z1, z2\n",
        "\n",
        "\n",
        "#forward propagation in theory means sending the data to next layers\n",
        "#in practical it means calculating z of each neuron and applying activation fucntion\n",
        "# # Test forward pass\n",
        "# probabilities = a2\n",
        "# hidden_out = a1\n",
        "# hidden_z = z1\n",
        "# output_z = z2\n",
        "\n",
        "# New weights → New Z1, Z2 → New A1, A2\n",
        "# Cycle repeat until accurate predictions\n",
        "\n",
        "\n",
        "#testing now\n",
        "probabilities, hidden_out, hidden_z, output_z = forward(X_train, W1, b1, W2, b2)\n",
        "probabilities.shape[1]"
      ],
      "metadata": {
        "id": "EtBTjUGaK7hQ",
        "colab": {
          "base_uri": "https://localhost:8080/"
        },
        "outputId": "2633c049-2e77-4e12-dd1e-a763a168465b"
      },
      "execution_count": null,
      "outputs": [
        {
          "output_type": "execute_result",
          "data": {
            "text/plain": [
              "3"
            ]
          },
          "metadata": {},
          "execution_count": 80
        }
      ]
    },
    {
      "cell_type": "code",
      "source": [
        "probabilities[:3]"
      ],
      "metadata": {
        "colab": {
          "base_uri": "https://localhost:8080/"
        },
        "id": "GCV2e9X5EdqP",
        "outputId": "0e431825-ee65-4dc9-f852-f229f84e9bd8"
      },
      "execution_count": null,
      "outputs": [
        {
          "output_type": "execute_result",
          "data": {
            "text/plain": [
              "array([[0.33306053, 0.33322593, 0.33371354],\n",
              "       [0.33299662, 0.33320533, 0.33379805],\n",
              "       [0.33300389, 0.33323264, 0.33376347]])"
            ]
          },
          "metadata": {},
          "execution_count": 81
        }
      ]
    },
    {
      "cell_type": "code",
      "source": [
        "def compute_loss(y, y_pred):\n",
        "\n",
        "    m = y.shape[0]\n",
        "    correct_log_probs = -np.log(y_pred[range(m), y])\n",
        "    #kinda looks like this # Output: [0.9, 0.7, 0.5]\n",
        "    #[-log(0.9), -log(0.7), -log(0.5)] ≈ [0.105, 0.357, 0.693]\n",
        "    loss = np.sum(correct_log_probs) / m\n",
        "    return loss\n",
        "\n",
        "compute_loss(y_train, probabilities)\n",
        "\n",
        "#we can also minus the probablities from 1.0 but we use log cuz it enhances the loss"
      ],
      "metadata": {
        "id": "lQE8ggHpK7lQ",
        "colab": {
          "base_uri": "https://localhost:8080/"
        },
        "outputId": "3caf4fd4-2172-49e8-9893-a63dba23a9ba"
      },
      "execution_count": null,
      "outputs": [
        {
          "output_type": "execute_result",
          "data": {
            "text/plain": [
              "np.float64(1.0985923195560021)"
            ]
          },
          "metadata": {},
          "execution_count": 82
        }
      ]
    },
    {
      "cell_type": "code",
      "source": [
        "# in this code (y_pred[range(m), y] y_pred = probablities\n",
        "# y_pred[range_m, y] = y_pred[[0,1,2,3,4,5,6,7,8,9], [2,0,1,2,1,0,2,1,0,1]]\n",
        "#  y_pred will (create a loop for each and) it will say 'give me column 2 of row 0 from y_pred'\n",
        "# numpy will automatically create pairs, and numpy itself is converting range(m) into an array of 120"
      ],
      "metadata": {
        "id": "OH9eAfhOXDzw"
      },
      "execution_count": null,
      "outputs": []
    },
    {
      "cell_type": "code",
      "source": [
        " ## **5. BACKWARD PROPAGATION (LEARNING)**\n",
        "def backward(X, y, y_pred, hidden, W1, b1, W2, b2):\n",
        "    learning_rate=0.01\n",
        "    m = X.shape[0]\n",
        "\n",
        "    # Output layer error\n",
        "    dz2 = y_pred.copy()\n",
        "    dz2[range(m), y] -= 1\n",
        "    #dz2[range(m), y] this gives the probablitiy of the actual class. and here we minus from 1 (predicted - actual(1) = error )\n",
        "    dz2 /= m #average error\n",
        "\n",
        "    # Hidden layer error\n",
        "    dW2 = np.dot(hidden.T, dz2) #derivative W2\n",
        "    db2 = np.sum(dz2, axis=0, keepdims=True) #derivative bias2\n",
        "\n",
        "    dh = np.dot(dz2, W2.T)\n",
        "    dz1 = dh * (hidden > 0)  # ReLU derivative\n",
        "\n",
        "    # Input layer error\n",
        "    dW1 = np.dot(X.T, dz1)\n",
        "    db1 = np.sum(dz1, axis=0, keepdims=True)\n",
        "\n",
        "    # Weights update\n",
        "    W1 -= learning_rate * dW1\n",
        "    b1 -= learning_rate * db1\n",
        "    W2 -= learning_rate * dW2\n",
        "    b2 -= learning_rate * db2\n",
        "\n",
        "    return W1, b1, W2, b2\n",
        "    print(dz2.shape)\n"
      ],
      "metadata": {
        "id": "XWXjpEt5pTHB"
      },
      "execution_count": null,
      "outputs": []
    },
    {
      "cell_type": "code",
      "source": [
        "# Manually shapes check\n",
        "print(\"X_train shape:\", X_train.shape)    # (120, 4)\n",
        "print(\"W1 shape:\", W1.shape)              # (4, 5)\n",
        "print(\"W2 shape:\", W2.shape)              # (5, 3)\n",
        "print(\"b1 shape:\", b1.shape)              # (1, 5)\n",
        "print(\"b2 shape:\", b2.shape)              # (1, 3)\n",
        "\n",
        "# Forward pass test\n",
        "y_pred, hidden, _, _ = forward(X_train, W1, b1, W2, b2)\n",
        "print(\"y_pred shape:\", y_pred.shape)      # (120, 3)\n",
        "print(\"hidden shape:\", hidden.shape)      # (120, 5)\n",
        "\n",
        "# Backward pass test\n",
        "W1, b1, W2, b2 = backward(X_train, y_train, y_pred, hidden, W1, b1, W2, b2)"
      ],
      "metadata": {
        "colab": {
          "base_uri": "https://localhost:8080/"
        },
        "id": "kpFDhaw0moe7",
        "outputId": "29fcbaef-82ff-49d6-e6a1-d52217a886e3"
      },
      "execution_count": null,
      "outputs": [
        {
          "output_type": "stream",
          "name": "stdout",
          "text": [
            "X_train shape: (120, 4)\n",
            "W1 shape: (4, 5)\n",
            "W2 shape: (5, 3)\n",
            "b1 shape: (1, 5)\n",
            "b2 shape: (1, 3)\n",
            "y_pred shape: (120, 3)\n",
            "hidden shape: (120, 5)\n"
          ]
        }
      ]
    },
    {
      "cell_type": "code",
      "source": [],
      "metadata": {
        "id": "ZBJxW3ugmuh1"
      },
      "execution_count": null,
      "outputs": []
    },
    {
      "cell_type": "code",
      "source": [
        "# # Example:\n",
        "# dz2_before = [[0.1, 0.8, 0.1], [0.9, 0.1, 0.0]]\n",
        "# y = [1, 0]\n",
        "\n",
        "# # dz2[[0,1], [1,0]] -= 1\n",
        "# # dz2[0,1] = 0.8 - 1 = -0.2\n",
        "# dz2_after = [[0.1, -0.2, 0.1], [-0.1, 0.1, 0.0]]\n",
        "\n",
        "#every element  dividing by 120 # [[-0.2, 0.1, 0.1], ...] / 120 = [[-0.0016, 0.0008, 0.0008], ...]\n"
      ],
      "metadata": {
        "id": "8R1bFab2pTJ1"
      },
      "execution_count": null,
      "outputs": []
    },
    {
      "cell_type": "code",
      "source": [
        "#loss func : how much error\n",
        "#back propagation: who is how much responsible for error?\n",
        "\n",
        "# X = X_train (120×4) - Training features\n",
        "# y = y_train (120,) - Actual labels\n",
        "# y_pred = probabilities (120×3) - Forward pass\n",
        "# hidden = a1 (120×5) - Hidden layer outputs (after ReLU)\n",
        "# W2 = (5×3) - Hidden→Output weights\n",
        "\n",
        "\n",
        "# dW2 = Input (a1) × Output Error (dz2)\n",
        "# dW1 = Input (X) × Hidden Error (dz1)\n",
        "\n",
        "#db2 is sum of coloum 1 2 and 3 and gives a 3 col array. db2 = [[0.15, -0.08, 0.23]]  # Example values"
      ],
      "metadata": {
        "id": "o82gE_65pTO7"
      },
      "execution_count": null,
      "outputs": []
    },
    {
      "cell_type": "code",
      "source": [
        "#  in forward :\n",
        "\n",
        "# a1 (hidden) × W2 = z2 (output)\n",
        "\n",
        "# Backward reverse:\n",
        "\n",
        "# dz2 (output errors) × W2.T = dh (hidden errors)\n",
        "\n",
        "# Code: dz2 × W2.T but conceptually:\n",
        "\n",
        "# Output errors (dz2) → Weights (W2) → Hidden errors (dh)\n",
        "\n",
        "# Forward: output = hidden × W2\n",
        "\n",
        "# Backward: dh = dz2 × W2.T\n",
        "\n",
        "# theory is correct  - flow correct, but code has different notation\n",
        "# \"We are doing W2.T only so that dimensions match and multiplication can happen  And error anyway becomes collective or average \"\n",
        "\n",
        "# dz1 = Z1 gradient/error\n",
        "\n",
        "# it tells: Error in Hidden layers raw calculations (z1)\n",
        "# after applying ReLU"
      ],
      "metadata": {
        "id": "Nk3gHcuVKApc"
      },
      "execution_count": null,
      "outputs": []
    },
    {
      "cell_type": "code",
      "source": [
        "# We use a small learning rate because the gradient is only an estimate, not a perfect direction.\n",
        "#  The exact optimal weight change might be 0.2 instead of the calculated 0.3.\n",
        "#  By taking small steps, we safely approach the maximum accuracy point without overshooting it."
      ],
      "metadata": {
        "id": "w-TgrlxzJ147"
      },
      "execution_count": null,
      "outputs": []
    },
    {
      "cell_type": "code",
      "source": [
        "# dz2 = Average error of output layer (z2)\n",
        "\n",
        "# dz1 = Error of hidden layer (z1)\n",
        "\n",
        "# dW2, db2 = Output weights & biases error\n",
        "\n",
        "# dW1, db1 = Hidden weights & biases error\n",
        "\n",
        "#in forward pass we Zeroed (0)negative neurons (inactive ) so in back prop we also making them zero cuz they didnt participate in the error\n",
        "# z1 = [0.8, -0.3, 1.2, -0.5, 0.6]  # Raw calculations\n",
        "# a1 = relu(z1) = [0.8, 0, 1.2, 0, 0.6]  # After ReLU\n",
        "\n",
        "#W1, b1, W2, b2 we provide this and backword func gives the updated weights"
      ],
      "metadata": {
        "id": "ioevfYY7pTRL"
      },
      "execution_count": null,
      "outputs": []
    },
    {
      "cell_type": "code",
      "source": [
        "def train_simple_ann(X_train, y_train, frequency=1000):\n",
        "    # Weights initialize\n",
        "    input_size = 4\n",
        "    hidden_size = 5\n",
        "    output_size = 3\n",
        "\n",
        "    W1 = np.random.randn(input_size, hidden_size) * 0.01\n",
        "    b1 = np.zeros((1, hidden_size))\n",
        "    W2 = np.random.randn(hidden_size, output_size) * 0.01\n",
        "    b2 = np.zeros((1, output_size))\n",
        "\n",
        "    losses = []\n",
        "\n",
        "    for f in range(frequency):\n",
        "        # Forward pass\n",
        "        y_pred, hidden, _,_ = forward(X_train, W1, b1, W2, b2)\n",
        "\n",
        "        # Loss calculate\n",
        "        loss = compute_loss(y_train, y_pred)\n",
        "        losses.append(loss)\n",
        "\n",
        "        # Backward pass (learning)\n",
        "        W1, b1, W2, b2 = backward(X_train, y_train, y_pred, hidden, W1, b1, W2, b2)\n",
        "\n",
        "        if f % 100 == 0:\n",
        "            accuracy = np.mean(np.argmax(y_pred, axis=1) == y_train)\n",
        "            print(f\"Frequency {f}: Loss = {loss:.4f}, Accuracy = {accuracy:.2f}\")\n",
        "\n",
        "    return W1, b1, W2, b2, losses\n",
        "\n",
        "# Train the model\n",
        "W1, b1, W2, b2, losses = train_simple_ann(X_train, y_train)"
      ],
      "metadata": {
        "id": "nV2HifXApTTp",
        "colab": {
          "base_uri": "https://localhost:8080/"
        },
        "outputId": "ff372bf1-3913-45da-b9e4-855fad1c0986"
      },
      "execution_count": null,
      "outputs": [
        {
          "output_type": "stream",
          "name": "stdout",
          "text": [
            "Frequency 0: Loss = 1.0986, Accuracy = 0.34\n",
            "Frequency 100: Loss = 1.0979, Accuracy = 0.34\n",
            "Frequency 200: Loss = 1.0930, Accuracy = 0.34\n",
            "Frequency 300: Loss = 1.0627, Accuracy = 0.33\n",
            "Frequency 400: Loss = 0.9674, Accuracy = 0.61\n",
            "Frequency 500: Loss = 0.8464, Accuracy = 0.66\n",
            "Frequency 600: Loss = 0.7652, Accuracy = 0.66\n",
            "Frequency 700: Loss = 0.7066, Accuracy = 0.66\n",
            "Frequency 800: Loss = 0.6611, Accuracy = 0.67\n",
            "Frequency 900: Loss = 0.6246, Accuracy = 0.69\n"
          ]
        }
      ]
    },
    {
      "cell_type": "code",
      "source": [
        "# _ means (y_pred, hidden, _ = forward(X_train, W1, b1, W2, b2) i dont care about this variable = skip value\n",
        "#forward fucntion returns the z1 z2 but they get discard (_) cuz theyre not using in calculations\n",
        "\n",
        "#frequency = 1000 ( not fixed variable but 1 frequcncy = 120 flowers means complete data )\n",
        "# if f % 100 == 0: showing accuracy at every 100th (100, 200, 300..)\n",
        "#np.argmax(y_pred, axis=1) this gives the max probablity class( it gives class like 0 1 2. unlike np.max)\n",
        "#then values are compared np.argmax(y_pred, axis=1) == y_train [true,false,true] now the mean as 1+0+1/3"
      ],
      "metadata": {
        "id": "ZhA-cLd9K7ru"
      },
      "execution_count": null,
      "outputs": []
    },
    {
      "cell_type": "code",
      "source": [],
      "metadata": {
        "id": "r7Ht7MUZOWXy"
      },
      "execution_count": null,
      "outputs": []
    },
    {
      "cell_type": "code",
      "source": [],
      "metadata": {
        "id": "7KUDyxDOOWZ4"
      },
      "execution_count": null,
      "outputs": []
    },
    {
      "cell_type": "code",
      "source": [],
      "metadata": {
        "id": "Dw2cZxGROWbv"
      },
      "execution_count": null,
      "outputs": []
    },
    {
      "cell_type": "code",
      "source": [],
      "metadata": {
        "id": "LJvxYJ_ROWec"
      },
      "execution_count": null,
      "outputs": []
    },
    {
      "cell_type": "code",
      "source": [],
      "metadata": {
        "id": "f1SWBuQeOWha"
      },
      "execution_count": null,
      "outputs": []
    },
    {
      "cell_type": "code",
      "source": [],
      "metadata": {
        "id": "8mrklUULOWi2"
      },
      "execution_count": null,
      "outputs": []
    },
    {
      "cell_type": "code",
      "source": [],
      "metadata": {
        "id": "ANeC9y8POWm-"
      },
      "execution_count": null,
      "outputs": []
    }
  ]
}